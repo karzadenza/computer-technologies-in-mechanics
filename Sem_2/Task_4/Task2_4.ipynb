{
  "cells": [
    {
      "cell_type": "markdown",
      "metadata": {
        "id": "65rym4wyexZA"
      },
      "source": [
        "# 📌 Урок: Алгоритмы сортировки\n",
        "\n",
        "## 📖 Теоретический минимум\n",
        "\n",
        "### 🔹 Что такое алгоритмы сортировки?\n",
        "Алгоритмы сортировки — это методы упорядочивания элементов массива (или списка) в определённом порядке, например, по возрастанию или убыванию.\n",
        "\n",
        "### 🔹 Основные виды сортировок\n",
        "#### 1. Простые сортировки\n",
        "- **Сортировка пузырьком** (Bubble Sort) — O(n²)  \n",
        "  Последовательно сравнивает пары элементов и меняет их местами, если они стоят не в том порядке.\n",
        "- **Сортировка вставками** (Insertion Sort) — O(n²)  \n",
        "  Каждый новый элемент вставляется в уже отсортированную часть массива.\n",
        "- **Сортировка выбором** (Selection Sort) — O(n²)  \n",
        "  Находит минимум и ставит его на правильное место.\n",
        "\n",
        "#### 2. Эффективные сортировки\n",
        "- **Быстрая сортировка** (Quick Sort) — O(n log n) в среднем  \n",
        "  Разделяет массив на два подмассива относительно опорного элемента и рекурсивно сортирует их.\n",
        "- **Сортировка слиянием** (Merge Sort) — O(n log n)  \n",
        "  Делит массив пополам, сортирует обе части и сливает обратно.\n",
        "- **Сортировка кучей** (Heap Sort) — O(n log n)  \n",
        "  Использует структуру данных \"куча\" для эффективной сортировки.\n",
        "\n",
        "#### 3. Специальные сортировки\n",
        "- **Поразрядная сортировка** (Radix Sort) — O(nk)  \n",
        "  Применяется для чисел, сортирует поразрядно.\n",
        "- **Сортировка подсчётом** (Counting Sort) — O(n + k)  \n",
        "  Эффективна, если диапазон значений ограничен.\n",
        "\n",
        "## 📖 Материалы\n",
        "https://vk.com/video-60205820_456239070\n",
        "\n",
        "https://vk.com/video313356016_456239176\n",
        "\n",
        "https://vk.com/video-145052891_456246016\n",
        "\n",
        "https://education.yandex.ru/journal/osnovnye-vidy-sortirovok-i-primery-ikh-realizatsii\n",
        "\n",
        "---\n"
      ]
    },
    {
      "cell_type": "markdown",
      "metadata": {
        "id": "vBGTQmKE3Qvu"
      },
      "source": [
        "# 🏆 Задания\n",
        "\n",
        "## 1️⃣ Вспомните как стандартой python фуннкцией отсортировать массив\n",
        "\n",
        "**Пример входных данных:**\n",
        "```python\n",
        "arr = [5, 3, 8, 4, 2]\n",
        "```\n",
        "\n",
        "**Ожидаемый результат:**\n",
        "```\n",
        "[2, 3, 4, 5, 8]\n",
        "```\n",
        "\n",
        "---\n",
        "```"
      ]
    },
    {
      "cell_type": "code",
      "execution_count": 1,
      "metadata": {},
      "outputs": [
        {
          "data": {
            "text/plain": [
              "[2, 3, 4, 5, 8]"
            ]
          },
          "execution_count": 1,
          "metadata": {},
          "output_type": "execute_result"
        }
      ],
      "source": [
        "arr = [5, 3, 8, 4, 2]\n",
        "sorted(arr)"
      ]
    },
    {
      "cell_type": "markdown",
      "metadata": {
        "id": "Z-Xjo7zMNlw3"
      },
      "source": [
        "\n",
        "\n",
        "\n",
        "## 2️⃣ Реализация пузырьковой сортировки\n",
        "Реализуйте **сортировку пузырьком** и отсортируйте массив.\n",
        "\n",
        "**Пример входных данных:**\n",
        "```python\n",
        "arr = [5, 3, 8, 4, 2]\n",
        "```\n",
        "\n",
        "**Ожидаемый результат:**\n",
        "```\n",
        "[2, 3, 4, 5, 8]\n",
        "```\n",
        "\n",
        "---\n",
        "```\n"
      ]
    },
    {
      "cell_type": "code",
      "execution_count": 12,
      "metadata": {
        "id": "SN9ylQTQNmBg"
      },
      "outputs": [
        {
          "data": {
            "text/plain": [
              "[2, 3, 4, 5, 8]"
            ]
          },
          "execution_count": 12,
          "metadata": {},
          "output_type": "execute_result"
        }
      ],
      "source": [
        "def bubble_sort(arr):\n",
        "    n = len(arr)\n",
        "\n",
        "    for i in range(n):\n",
        "        for j in range(0, n - i - 1):\n",
        "            if arr[j] > arr[j + 1]:\n",
        "                arr[j], arr[j + 1] = arr[j + 1], arr[j]\n",
        "    return arr\n",
        "\n",
        "\n",
        "arr = [5, 3, 8, 4, 2]\n",
        "bubble_sort(arr)"
      ]
    },
    {
      "cell_type": "markdown",
      "metadata": {
        "id": "aaGawtbzhqKl"
      },
      "source": [
        "## 3️⃣ Оптимизация пузырьковой сортировки\n",
        "Оптимизируйте пузырьковую сортировку, чтобы она завершалась раньше, если массив уже отсортирован.\n",
        "\n",
        "**Пример входных данных:**\n",
        "```python\n",
        "arr = [1, 2, 3, 4, 5]\n",
        "```\n",
        "\n",
        "**Ожидаемый результат:**\n",
        "```\n",
        "[1, 2, 3, 4, 5] (должно завершиться за O(n))\n",
        "```\n",
        "\n",
        "---\n",
        "\n"
      ]
    },
    {
      "cell_type": "code",
      "execution_count": null,
      "metadata": {
        "id": "ByFl_a5OhoCR"
      },
      "outputs": [],
      "source": []
    },
    {
      "cell_type": "markdown",
      "metadata": {
        "id": "UIWphjDSh8d0"
      },
      "source": [
        "## 4️⃣ Сортировка слиянием\n",
        "Реализуйте **сортировку слиянием** (Merge Sort).\n",
        "\n",
        "**Пример входных данных:**\n",
        "```python\n",
        "arr = [9, 1, 5, 3, 7]\n",
        "```\n",
        "\n",
        "**Ожидаемый результат:**\n",
        "```\n",
        "[1, 3, 5, 7, 9]\n",
        "```\n",
        "\n",
        "---\n",
        "\n"
      ]
    },
    {
      "cell_type": "code",
      "execution_count": null,
      "metadata": {
        "id": "LseGW0kpiS1s"
      },
      "outputs": [],
      "source": []
    },
    {
      "cell_type": "markdown",
      "metadata": {
        "id": "h5NaRCeji99S"
      },
      "source": [
        "## 5️⃣ Быстрая сортировка\n",
        "Реализуйте **быструю сортировку** (Quick Sort).\n",
        "\n",
        "**Пример входных данных:**\n",
        "```python\n",
        "arr = [10, -2, 3, 8, 5]\n",
        "```\n",
        "\n",
        "**Ожидаемый результат:**\n",
        "```\n",
        "[-2, 3, 5, 8, 10]\n",
        "```\n",
        "\n",
        "---\n"
      ]
    },
    {
      "cell_type": "code",
      "execution_count": null,
      "metadata": {
        "id": "5efo_fzpjMCs"
      },
      "outputs": [],
      "source": []
    }
  ],
  "metadata": {
    "colab": {
      "provenance": []
    },
    "kernelspec": {
      "display_name": "Python 3",
      "name": "python3"
    },
    "language_info": {
      "codemirror_mode": {
        "name": "ipython",
        "version": 3
      },
      "file_extension": ".py",
      "mimetype": "text/x-python",
      "name": "python",
      "nbconvert_exporter": "python",
      "pygments_lexer": "ipython3",
      "version": "3.10.0"
    }
  },
  "nbformat": 4,
  "nbformat_minor": 0
}
