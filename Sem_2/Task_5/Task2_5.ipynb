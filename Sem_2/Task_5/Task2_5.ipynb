{
  "cells": [
    {
      "cell_type": "markdown",
      "metadata": {
        "id": "65rym4wyexZA"
      },
      "source": [
        "# 📌 Урок: Задачи оптимизации\n",
        "\n",
        "## 📖 Теоретический минимум\n",
        "\n",
        "### 🔹 Что такое задачи оптимизации?\n",
        "Задачи оптимизации — это математические задачи, в которых необходимо найти **лучшее** (оптимальное) решение из множества возможных вариантов.\n",
        "\n",
        "### 🔹 Классификация задач оптимизации\n",
        "1. **По типу переменных:**\n",
        "   - **Непрерывные** (значения переменных могут быть любыми, например, вещественные числа).\n",
        "   - **Дискретные** (переменные могут принимать только целые значения).\n",
        "   - **Комбинаторные** (переменные представляют собой комбинации элементов).\n",
        "\n",
        "2. **По числу экстремумов:**\n",
        "   - **Линейные** (функция и ограничения линейные).\n",
        "   - **Нелинейные** (функция или ограничения нелинейные).\n",
        "   - **Выпуклые** (гарантирован один глобальный минимум).\n",
        "   - **Невыпуклые** (возможны локальные минимумы и максимумы).\n",
        "\n",
        "3. **По числу критериев:**\n",
        "   - **Однокритериальные** (оптимизируется одна функция).\n",
        "   - **Многокритериальные** (оптимизируются сразу несколько критериев).\n",
        "\n",
        "### 🔹 Методы решения задач оптимизации\n",
        "- **Градиентные методы** (используют производные для поиска минимума/максимума).\n",
        "- **Метод линейного программирования** (например, симплекс-метод).\n",
        "- **Методы комбинаторной оптимизации** (жадные алгоритмы, динамическое программирование).\n",
        "- **Эволюционные алгоритмы** (генетические алгоритмы, муравьиные алгоритмы).\n",
        "- **Методы численной оптимизации** (например, метод Ньютона).\n",
        "\n",
        "---\n",
        "\n",
        "## 📖 Материалы\n",
        "\n",
        "https://vk.com/video302513503_456239460\n",
        "\n",
        "https://habr.com/ru/articles/474286/\n",
        "\n",
        "https://vk.com/video121629816_456239397\n",
        "\n",
        "Грокаем алгоритмы. Иллюстрированное пособие для программистов и любопытствующих от Бхаргава А.\n",
        "\n",
        "https://docs.sympy.org/latest/index.html\n",
        "\n",
        "---\n"
      ]
    },
    {
      "cell_type": "markdown",
      "metadata": {
        "id": "vBGTQmKE3Qvu"
      },
      "source": [
        "\n",
        "# 🏆 Задания\n",
        "\n",
        "За использование оптимизационных библиотек баллы попалам.\n",
        "\n",
        "## 1️⃣ Минимизация функции одной переменной\n",
        "Реализуйте метод **градиентного спуска** для минимизации функции:\n",
        "\n",
        "\\[\n",
        "f(x) = x^2 + 4x + 4\n",
        "\\]\n",
        "\n",
        "Найдите минимальное значение функции и точку, в которой оно достигается.\n",
        "\n",
        "---\n"
      ]
    },
    {
      "cell_type": "code",
      "execution_count": 1,
      "metadata": {},
      "outputs": [],
      "source": [
        "import time\n",
        "import numpy as np\n",
        "import matplotlib.pyplot as plt"
      ]
    },
    {
      "cell_type": "markdown",
      "metadata": {},
      "source": [
        "Заведем функцию $f(x) = x^2  + 4x + 4$:"
      ]
    },
    {
      "cell_type": "code",
      "execution_count": 2,
      "metadata": {},
      "outputs": [],
      "source": [
        "def f(x):\n",
        "    return x ** 2 + 4 * x + 4"
      ]
    },
    {
      "cell_type": "markdown",
      "metadata": {},
      "source": [
        "И ее производную: функцию $f'(x) = 2x + 4$:"
      ]
    },
    {
      "cell_type": "code",
      "execution_count": 3,
      "metadata": {},
      "outputs": [],
      "source": [
        "def df(x):\n",
        "    return 2 * x + 4"
      ]
    },
    {
      "cell_type": "code",
      "execution_count": 4,
      "metadata": {},
      "outputs": [
        {
          "data": {
            "image/png": "[encoded data removed]",
            "text/plain": [
              "<Figure size 640x480 with 1 Axes>"
            ]
          },
          "metadata": {},
          "output_type": "display_data"
        }
      ],
      "source": [
        "N = 50 # число итераций\n",
        "xx = 0 # начальное значение\n",
        "lmd = 0.2 # шаг сходимости\n",
        "\n",
        "# для визуализации\n",
        "x_plt = np.arange(0, 5, 0.1)\n",
        "f_plt = [f(x) for x in x_plt]\n",
        "\n",
        "plt.ion() # включение интерактивного режима (для анимашки)\n",
        "fig, ax = plt.subplots() # окно и оси для графика\n",
        "ax.grid(True) # включаем сетку\n",
        "\n",
        "ax.plot(x_plt, f_plt) # отображение параболы\n",
        "point = ax.scatter(xx, f(xx), c = 'r') # отображение точки красным цветом\n"
      ]
    },
    {
      "cell_type": "markdown",
      "metadata": {},
      "source": [
        "Теперь напишем алгоритм градиентного спуска.\n",
        "\n",
        "Напомним, как работает алгоритм градиентной оптимизации:\n",
        "1. Берем случайную точку $х$ функции $f$ и фиксируем $\\alpha$ и $\\epsilon$\n",
        "2. Вычисляем производную $f’(x)$\n",
        "3. Двигаем $х$: $x_{новое} = x - \\alpha⋅f’(x) $\n",
        "4. Повторяем снова начиная с пункта 2 до тех пор, пока $\\Delta y = y(x_{новое}) - y(x)$ не станет меньше $\\epsilon$ по модулю\n",
        "\n"
      ]
    },
    {
      "cell_type": "code",
      "execution_count": 5,
      "metadata": {},
      "outputs": [],
      "source": [
        "for i in range(N):\n",
        "    xx = xx - lmd * df(xx) # формула град спуска\n",
        "\n",
        "    point.set_offsets([xx, f(xx)]) # новое положение точки\n",
        "\n",
        "    # перерисовка графика и задержка\n",
        "    fig.canvas.draw()\n",
        "    fig.canvas.flush_events()\n",
        "    time.sleep(0.02) # задержка"
      ]
    },
    {
      "cell_type": "code",
      "execution_count": 6,
      "metadata": {},
      "outputs": [
        {
          "name": "stdout",
          "output_type": "stream",
          "text": [
            "-1.9999999999838345\n"
          ]
        },
        {
          "data": {
            "text/plain": [
              "<function matplotlib.pyplot.show(close=None, block=None)>"
            ]
          },
          "execution_count": 6,
          "metadata": {},
          "output_type": "execute_result"
        }
      ],
      "source": [
        "plt.ioff() # \n",
        "print(xx)\n",
        "ax.scatter(xx, f(xx), c = 'b')\n",
        "plt.show"
      ]
    },
    {
      "cell_type": "markdown",
      "metadata": {
        "id": "Z-Xjo7zMNlw3"
      },
      "source": [
        "\n",
        "## 2️⃣ Оптимизация производства\n",
        "Фабрика производит два вида товаров: **A** и **B**.  \n",
        "Прибыль с одного товара A — **$5$**, с одного товара B — **$3$**.  \n",
        "Ограничения:\n",
        "- На производство A уходит **2 часа**, на B — **1 час**.\n",
        "- Всего доступно **100 часов**.\n",
        "\n",
        "Сколько товаров A и B нужно выпустить, чтобы максимизировать прибыль?  \n",
        "Решите задачу линейного программирования с помощью **симплекс метода**.\n",
        "За решение оптимизационными библиотеками 0,5 балла, за частное решение этой задачи 0,5 балла.\n",
        "\n",
        "---\n",
        "\n"
      ]
    },
    {
      "cell_type": "code",
      "execution_count": 7,
      "metadata": {},
      "outputs": [
        {
          "name": "stdout",
          "output_type": "stream",
          "text": [
            "Оптимальное решение: x = 0, y = 100.0, прибыль Z = 300.0\n"
          ]
        }
      ],
      "source": [
        "# Изначальная таблица: \n",
        "'2 1 1 100'\n",
        "'-5 -3 0 0'\n",
        "# Базис: s\n",
        "# Уравнение: 2x + y + s = 100\n",
        "# Цель: Max Z = 5x + 3y\n",
        "\n",
        "# Шаг 1: x входит в базис\n",
        "x_row = [1, 0.5, 0.5, 50]  # Нормализуем строку: делим [2,1,1,100] на 2\n",
        "\n",
        "# Обновляем строку Z: Z + 5 * x_row\n",
        "z_row = [\n",
        "    -5 + 5 * x_row[0],\n",
        "    -3 + 5 * x_row[1],\n",
        "     0 + 5 * x_row[2],\n",
        "     0 + 5 * x_row[3]\n",
        "]\n",
        "\n",
        "# Шаг 2: y входит в базис (из строки x_row)\n",
        "# Нормализуем строку по y: делим x_row на 0.5\n",
        "y_row = [i / 0.5 for i in x_row]\n",
        "\n",
        "# Обновляем строку Z: Z + 0.5 * y_row\n",
        "z_row = [z + 0.5 * y for z, y in zip(z_row, y_row)]\n",
        "\n",
        "# Ответ\n",
        "x = 0\n",
        "y = y_row[3]\n",
        "z = z_row[3]\n",
        "\n",
        "print(f\"Оптимальное решение: x = {x}, y = {y}, прибыль Z = {z}\")"
      ]
    },
    {
      "cell_type": "code",
      "execution_count": 20,
      "metadata": {},
      "outputs": [
        {
          "data": {
            "text/plain": [
              "[2.0, 1.0, 1.0, 100.0]"
            ]
          },
          "execution_count": 20,
          "metadata": {},
          "output_type": "execute_result"
        }
      ],
      "source": [
        "y_row"
      ]
    },
    {
      "cell_type": "code",
      "execution_count": null,
      "metadata": {},
      "outputs": [
        {
          "name": "stdout",
          "output_type": "stream",
          "text": [
            "x = 0.00\n",
            "y = 100.00\n",
            "Максимальная прибыль Z = 300.00\n"
          ]
        }
      ],
      "source": [
        "from scipy.optimize import linprog\n",
        "# linprog - функция минимизации\n",
        "# Z = 5x +3y - целевая функция\n",
        "# коэффициенты умножаем на -1, так как linprog минимизирует\n",
        "c = [-5, -3]\n",
        "\n",
        "# Левая часть неравенства\n",
        "A = [[2, 1]]  # 2x + y <= 100\n",
        "\n",
        "# Правая часть неравенства\n",
        "b = [100]\n",
        "\n",
        "# Границы переменных: x >= 0, y >= 0\n",
        "x_bounds = (0, None)\n",
        "y_bounds = (0, None)\n",
        "\n",
        "result = linprog(c, A_ub=A, b_ub=b, bounds=[x_bounds, y_bounds], method='highs')\n",
        "\n",
        "\n",
        "x, y = result.x\n",
        "print(f\"x = {x:.2f}\")\n",
        "print(f\"y = {y:.2f}\")\n",
        "print(f\"Максимальная прибыль Z = {(-result.fun):.2f}\")"
      ]
    },
    {
      "cell_type": "markdown",
      "metadata": {
        "id": "aaGawtbzhqKl"
      },
      "source": [
        "## 3️⃣ Комбинаторная оптимизация (Задача рюкзака)\n",
        "Дан рюкзак ёмкостью **50 кг** и **n** предметов, каждый из которых имеет **вес** и **ценность**.  \n",
        "Найти, какие предметы нужно выбрать, чтобы **максимизировать общую ценность**, не превышая ограничения по весу.\n",
        "\n",
        "**Пример входных данных:**\n",
        "```python\n",
        "items = [(10, 60), (20, 100), (30, 120)]  # (вес, ценность)\n",
        "capacity = 50\n",
        "```\n",
        "**Ожидаемый результат:**  \n",
        "Оптимальный набор предметов и максимальная ценность.\n",
        "\n",
        "---\n",
        "\n"
      ]
    },
    {
      "cell_type": "code",
      "execution_count": null,
      "metadata": {
        "id": "ByFl_a5OhoCR"
      },
      "outputs": [
        {
          "name": "stdout",
          "output_type": "stream",
          "text": [
            "[(30, 120), (20, 100)] 220\n"
          ]
        }
      ],
      "source": [
        "def knapsack(capacity, items):\n",
        "    k = len(items)\n",
        "    ks = [[0] * (capacity + 1) for i in range(k + 1)] # +1 чтобы учесть нулевую емкость и нуль предметов\n",
        "    \n",
        "    for i in range(1, k + 1):\n",
        "        weight, value = items[i - 1]\n",
        "        for w in range(capacity + 1):\n",
        "            if weight > w:\n",
        "                ks[i][w] = ks[i - 1][w]\n",
        "            else:\n",
        "                ks[i][w] = max(ks[i - 1][w], ks[i - 1][w - weight] + value)\n",
        "    \n",
        "    # Определяем, какие предметы включены в оптимальное решение\n",
        "    w = capacity\n",
        "    selected_items = []\n",
        "    for i in range(k, 0, -1):\n",
        "        if ks[i][w] != ks[i - 1][w]:\n",
        "            selected_items.append(items[i - 1])\n",
        "            w -= items[i - 1][0]\n",
        "    \n",
        "    return print(selected_items, ks[k][capacity])\n",
        "\n",
        "items = [(10, 60), (20, 100), (30, 120)]\n",
        "capacity = 50\n",
        "\n",
        "knapsack(capacity, items)"
      ]
    },
    {
      "cell_type": "markdown",
      "metadata": {
        "id": "UIWphjDSh8d0"
      },
      "source": [
        "## 4️⃣ Оптимизация пути (задача коммивояжёра)\n",
        "Дан граф с **n** городами и расстояниями между ними.  \n",
        "Необходимо найти кратчайший путь, проходящий через все города **ровно один раз** и возвращающийся в начальную точку.\n",
        "\n",
        "**Пример входных данных:**\n",
        "```python\n",
        "graph = [\n",
        "    [0, 10, 15, 20],\n",
        "    [10, 0, 35, 25],\n",
        "    [15, 35, 0, 30],\n",
        "    [20, 25, 30, 0]\n",
        "]\n",
        "```\n",
        "**Ожидаемый результат:**  \n",
        "Минимальная длина пути и порядок посещения городов.\n",
        "\n",
        "---"
      ]
    },
    {
      "cell_type": "code",
      "execution_count": null,
      "metadata": {
        "id": "LseGW0kpiS1s"
      },
      "outputs": [
        {
          "name": "stdout",
          "output_type": "stream",
          "text": [
            "Оптимальный маршрут: [0, 1, 3, 2, 0]\n",
            "Минимальная длина пути: 80\n"
          ]
        }
      ],
      "source": [
        "def factorial(n):\n",
        "    if n == 0 or n == 1:\n",
        "        return 1\n",
        "    return n * factorial(n - 1)\n",
        "\n",
        "def generate_permutations(arr):\n",
        "    if len(arr) == 0:\n",
        "        return [[]]\n",
        "    result = []\n",
        "    for i in range(len(arr)):\n",
        "        rest = arr[:i] + arr[i+1:]\n",
        "        for perm in generate_permutations(rest):\n",
        "            result.append([arr[i]] + perm)\n",
        "    return result\n",
        "\n",
        "def traveling_salesman(graph):\n",
        "    n = len(graph)\n",
        "    min_path = float('inf')\n",
        "    best_route = []\n",
        "    \n",
        "    cities = list(range(n))\n",
        "    \n",
        "    for perm in generate_permutations(cities[1:]):  # Фиксируем первый город\n",
        "        route = [0] + perm + [0]  # Начинаем и заканчиваем в первом городе\n",
        "        path_length = sum(graph[route[i]][route[i + 1]] for i in range(n))\n",
        "        \n",
        "        if path_length < min_path:\n",
        "            min_path = path_length\n",
        "            best_route = route\n",
        "    \n",
        "    return best_route, min_path\n",
        "\n",
        "\n",
        "graph = [\n",
        "    [0, 10, 15, 20],\n",
        "    [10, 0, 35, 25],\n",
        "    [15, 35, 0, 30],\n",
        "    [20, 25, 30, 0]\n",
        "]\n",
        "\n",
        "optimal_route, min_distance = traveling_salesman(graph)\n",
        "print(f\"Оптимальный маршрут: {optimal_route}\")\n",
        "print(f\"Минимальная длина пути: {min_distance}\")\n"
      ]
    },
    {
      "cell_type": "markdown",
      "metadata": {
        "id": "h5NaRCeji99S"
      },
      "source": [
        "\n",
        "## 5️⃣ Накопленная добыча из скважины\n",
        "\n",
        "Предположим, что дебит скважины с течением времени уменьшается по определённому закону. Темп падения дебита задан функцией \\( Q(t) \\), где \\( t \\) — время в днях, а \\( Q(t) \\) — дебит в кубических метрах в день на момент времени \\( t \\).\n",
        "\n",
        "Для данной задачи темп падения дебита задается функцией:\n",
        "\n",
        "$$\n",
        "Q(t) = Q_0 \\cdot e^{-\\lambda t}\n",
        "$$\n",
        "\n",
        "где:\n",
        "- \\( Q_0 \\) — начальный дебит (в кубических метрах в день),\n",
        "- \\( \\lambda \\) — коэффициент падения дебита (в 1/день),\n",
        "- \\( t \\) — время (в днях).\n",
        "\n",
        "Необходимо найти накопленную добычу за период времени от \\( t = 0 \\) до \\( t = T \\), то есть посчитать:\n",
        "\n",
        "$$\n",
        "D(T) = \\int_0^T Q(t) \\, dt\n",
        "$$\n",
        "\n",
        "Где \\( D(T) \\) — это накопленная добыча за период времени от 0 до \\( T \\).\n",
        "\n",
        "**Входные данные:**\n",
        "- \\( Q_0 = 100 \\) м³/день,\n",
        "- \\( lambda = 0.05 \\) 1/день,\n",
        "- \\( T = 365 \\) дней.\n",
        "\n",
        "**Ожидаемый результат:**\n",
        "Вычислить накопленную добычу \\( D(T) \\).\n",
        "\n",
        "\n",
        "### Подсказки:\n",
        "Для вычисления интеграла можно использовать интегрирование из sympy.\n",
        "\n",
        "---\n"
      ]
    },
    {
      "cell_type": "code",
      "execution_count": 56,
      "metadata": {
        "id": "5efo_fzpjMCs"
      },
      "outputs": [
        {
          "name": "stdout",
          "output_type": "stream",
          "text": [
            "Накопленная добыча за 365 дней: 1999.99997627776 м³\n"
          ]
        }
      ],
      "source": [
        "import sympy as sp\n",
        "\n",
        "def cumulative_production(Q0, lmbd, T):\n",
        "    t = sp.Symbol('t') # создаем переменную t\n",
        "    Q_t = Q0 * sp.exp(-lmbd * t) # задаем уравнение \n",
        "    \n",
        "    # Интегрируем Q(t) от 0 до T\n",
        "    # Q_t - функция которую нужно проинтегрировать\n",
        "    # t - переменная по которой нужно проинтегрировать \n",
        "    # 0-Т - диапазон интегрирования\n",
        "    D_T = sp.integrate(Q_t, (t, 0, T))\n",
        "    \n",
        "    return D_T\n",
        "\n",
        "Q0 = 100\n",
        "lmbd = 0.05\n",
        "T = 365\n",
        "\n",
        "accumulated_production = cumulative_production(Q0, lmbd, T)\n",
        "print(f\"Накопленная добыча за {T} дней: {accumulated_production} м³\")"
      ]
    },
    {
      "cell_type": "code",
      "execution_count": null,
      "metadata": {},
      "outputs": [],
      "source": []
    }
  ],
  "metadata": {
    "colab": {
      "provenance": []
    },
    "kernelspec": {
      "display_name": "Python 3",
      "name": "python3"
    },
    "language_info": {
      "codemirror_mode": {
        "name": "ipython",
        "version": 3
      },
      "file_extension": ".py",
      "mimetype": "text/x-python",
      "name": "python",
      "nbconvert_exporter": "python",
      "pygments_lexer": "ipython3",
      "version": "3.9.6"
    }
  },
  "nbformat": 4,
  "nbformat_minor": 0
}
