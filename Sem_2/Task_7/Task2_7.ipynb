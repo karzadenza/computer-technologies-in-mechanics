{
  "cells": [
    {
      "cell_type": "markdown",
      "metadata": {},
      "source": [
        "#📌 Урок: Продвинутые структуры данных в Python\n",
        "##📖 Теоретический минимум\n",
        "###🔹 Графы (Graphs)\n",
        "Описание: Графы состоят из вершин (узлов) и ребер (связей между узлами). Они могут быть направленными или ненаправленными.\n",
        "\n",
        "Основные операции:\n",
        "\n",
        "Добавление вершины.\n",
        "\n",
        "Добавление ребра.\n",
        "\n",
        "Поиск пути между вершинами.\n",
        "\n",
        "Пример использования: Социальные сети, маршрутизация.\n",
        "\n",
        "###🔹 Деревья (Trees)\n",
        "Описание: Деревья — это иерархические структуры данных, где каждый узел имеет родителя и потомков. У дерева есть корень и листья.\n",
        "\n",
        "Основные операции:\n",
        "\n",
        "Вставка узла.\n",
        "\n",
        "Удаление узла.\n",
        "\n",
        "Поиск узла.\n",
        "\n",
        "Пример использования: Файловые системы, бинарные деревья поиска.\n",
        "\n",
        "###🔹 Очереди (Queues) и Стеки (Stacks)\n",
        "Очереди:\n",
        "\n",
        "Описание: Работают по принципу FIFO (First In, First Out).\n",
        "\n",
        "Основные операции: enqueue (добавление), dequeue (удаление).\n",
        "\n",
        "Стеки:\n",
        "\n",
        "Описание: Работают по принципу LIFO (Last In, First Out).\n",
        "\n",
        "Основные операции: push (добавление), pop (удаление).\n",
        "\n",
        "Пример использования: Очереди — обработка задач, стеки — отмена действий.\n",
        "\n",
        "###🔹 Хэш-таблицы (Hash Tables)\n",
        "Описание: Хэш-таблицы хранят пары \"ключ-значение\". Используют хэш-функции для быстрого доступа к данным.\n",
        "\n",
        "Основные операции:\n",
        "\n",
        "Вставка элемента.\n",
        "\n",
        "Удаление элемента.\n",
        "\n",
        "Поиск элемента.\n",
        "\n",
        "Пример использования: Словари, кэширование.\n",
        "\n",
        "###🔹 Связные списки (Linked Lists)\n",
        "Описание: Связные списки — это линейные структуры данных, где каждый элемент (узел) содержит данные и ссылку на следующий элемент.\n",
        "\n",
        "Основные операции:\n",
        "\n",
        "Вставка элемента.\n",
        "\n",
        "Удаление элемента.\n",
        "\n",
        "Поиск элемента.\n",
        "\n",
        "Пример использования: Динамическое управление памятью.\n",
        "\n",
        "#📖 Материалы\n",
        "\n",
        "https://vk.com/video-16108331_456253002\n",
        "\n",
        "https://vk.com/video-139172865_456239127\n",
        "\n",
        "https://vk.com/video-224117885_456239068\n",
        "\n",
        "https://vk.com/video-227978201_456239119\n",
        "\n",
        "https://vk.com/video21156921_456244153\n",
        "\n",
        "Грокаем алгоритмы. Иллюстрированное пособие для программистов и любопытствующих от Бхаргава А.\n",
        "\n",
        "Грокаем алгоритмы. 2-е изд. от Бхаргава А.\n",
        "\n",
        "\n",
        "\n",
        "\n",
        "\n",
        "\n"
      ]
    },
    {
      "cell_type": "markdown",
      "metadata": {
        "id": "vBGTQmKE3Qvu"
      },
      "source": [
        "\n",
        "# 🏆 Задания\n",
        "\n",
        "## 1️⃣ Задача на графы: Реализация графа и поиск в глубину (DFS)\n",
        "***Входные данные:***\n",
        "\n",
        "Граф в виде словаря смежности:\n",
        "\n",
        "```\n",
        "graph = {\n",
        "    'A': ['B', 'C'],\n",
        "    'B': ['A', 'D'],\n",
        "    'C': ['A', 'D'],\n",
        "    'D': ['B', 'C']\n",
        "}\n",
        "```\n",
        "Начальная вершина: 'A'.\n",
        "\n",
        "***Ожидаемый результат:***\n",
        "\n",
        "Порядок обхода вершин с использованием DFS: ['A', 'B', 'D', 'C'].\n"
      ]
    },
    {
      "cell_type": "code",
      "execution_count": 1,
      "metadata": {
        "id": "iIseX_mCQFZK"
      },
      "outputs": [
        {
          "data": {
            "text/plain": [
              "['A', 'B', 'D', 'C']"
            ]
          },
          "execution_count": 1,
          "metadata": {},
          "output_type": "execute_result"
        }
      ],
      "source": [
        "def dfs(graph, start):\n",
        "    stack = [start] # стэк для обхода\n",
        "    result = [] # сохраняем вершины\n",
        "\n",
        "    while stack:\n",
        "        i = stack.pop() # достаем последнюю вершину из стэка и возвращаем\n",
        "\n",
        "        if i not in result:\n",
        "            result.append(i) # если еще не были в вершине, то добавляем ее как посещенную\n",
        "\n",
        "            for j in reversed(graph[i]): # чтобы в попе извлекалось в обратном порядке\n",
        "                if j not in result:\n",
        "                    stack.append(j)\n",
        "\n",
        "    return result\n",
        "\n",
        "\n",
        "graph = {\n",
        "    'A': ['B', 'C'],\n",
        "    'B': ['A', 'D'],\n",
        "    'C': ['A', 'D'],\n",
        "    'D': ['B', 'C']\n",
        "}\n",
        "\n",
        "dfs(graph, 'A')"
      ]
    },
    {
      "cell_type": "markdown",
      "metadata": {
        "id": "Z-Xjo7zMNlw3"
      },
      "source": [
        "\n",
        "## 2️⃣ Задача на деревья: Реализация бинарного дерева поиска (BST)\n",
        "**Входные данные:**\n",
        "\n",
        "Элементы для вставки: [10, 5, 15, 3, 7, 12, 18].\n",
        "\n",
        "```\n",
        "        10\n",
        "       /  \\\n",
        "      5    15\n",
        "     / \\   / \\\n",
        "    3   7 12 18\n",
        "```\n",
        "Пояснение:\n",
        "Корень дерева: 10 (первый элемент).\n",
        "\n",
        "Левое поддерево:\n",
        "\n",
        "5 меньше 10, поэтому становится левым потомком.\n",
        "\n",
        "3 меньше 5, поэтому становится левым потомком 5.\n",
        "\n",
        "7 больше 5, поэтому становится правым потомком 5.\n",
        "\n",
        "Правое поддерево:\n",
        "\n",
        "15 больше 10, поэтому становится правым потомком.\n",
        "\n",
        "12 меньше 15, поэтому становится левым потомком 15.\n",
        "\n",
        "18 больше 15, поэтому становится правым потомком 15.\n",
        "\n",
        "**Ожидаемый результат:**\n",
        "\n",
        "Инфиксный обход дерева:\n",
        "Инфиксный обход (Inorder Traversal) — это способ обхода дерева, при котором:\n",
        "\n",
        "* Сначала посещается левое поддерево.\n",
        "\n",
        "* Затем посещается корень.\n",
        "\n",
        "* В конце посещается правое поддерево.\n",
        "\n",
        "Для бинарного дерева поиска (BST) инфиксный обход возвращает элементы в отсортированном порядке. [3, 5, 7, 10, 12, 15, 18].\n",
        "---\n",
        "\n"
      ]
    },
    {
      "cell_type": "code",
      "execution_count": 2,
      "metadata": {},
      "outputs": [],
      "source": [
        "# создание узла\n",
        "def node(value):\n",
        "    return {\n",
        "        'value': value,\n",
        "        'left': None,\n",
        "        'right': None\n",
        "    }\n",
        "\n",
        "# создание дерева\n",
        "def insert(tree, value):\n",
        "    # если дерево пустое, создаём новый узел\n",
        "    if tree is None:\n",
        "        return node(value)\n",
        "    \n",
        "    # если значение меньше текущего идем влево\n",
        "    if value < tree['value']:\n",
        "        tree['left'] = insert(tree['left'], value)\n",
        "    else:\n",
        "        # иначе идем вправо (больше или равно)\n",
        "        tree['right'] = insert(tree['right'], value)\n",
        "    \n",
        "    return tree  # возвращаем дерево обратно после вставки\n",
        "\n",
        "# обход дерева\n",
        "def inorder(tree, result):\n",
        "    if tree is not None:\n",
        "        inorder(tree['left'], result)         # сначала левый\n",
        "        result.append(tree['value'])          # потом текущий узел\n",
        "        inorder(tree['right'], result)        # потом правый"
      ]
    },
    {
      "cell_type": "code",
      "execution_count": 3,
      "metadata": {},
      "outputs": [
        {
          "name": "stdout",
          "output_type": "stream",
          "text": [
            "[3, 5, 7, 10, 12, 15, 18]\n"
          ]
        }
      ],
      "source": [
        "values = [10, 5, 15, 3, 7, 12, 18]\n",
        "\n",
        "tree = None\n",
        "\n",
        "for val in values:\n",
        "    tree = insert(tree, val)\n",
        "\n",
        "result = []\n",
        "\n",
        "inorder(tree, result)\n",
        "\n",
        "print(result)"
      ]
    },
    {
      "cell_type": "code",
      "execution_count": 4,
      "metadata": {},
      "outputs": [
        {
          "data": {
            "text/plain": [
              "{'value': 10,\n",
              " 'left': {'value': 5,\n",
              "  'left': {'value': 3, 'left': None, 'right': None},\n",
              "  'right': {'value': 7, 'left': None, 'right': None}},\n",
              " 'right': {'value': 15,\n",
              "  'left': {'value': 12, 'left': None, 'right': None},\n",
              "  'right': {'value': 18, 'left': None, 'right': None}}}"
            ]
          },
          "execution_count": 4,
          "metadata": {},
          "output_type": "execute_result"
        }
      ],
      "source": [
        "tree"
      ]
    },
    {
      "cell_type": "markdown",
      "metadata": {
        "id": "aaGawtbzhqKl"
      },
      "source": [
        "## 3️⃣ Задача на очередь и стэк\n",
        "\n",
        "Рализуйте классы queue и stack возвращаяющие и удаляющие из хранения элементы по принципу FIFO и FILO\n",
        "\n",
        "**Входные данные:**\n",
        "\n",
        "Элементы для добавления: [1, 2, 3, 4].\n",
        "\n",
        "**Ожидаемый результат:**\n",
        "\n",
        "Порядок возвращения элементов очереди: [1, 2, 3, 4].\n",
        "\n",
        "Порядок возвращения элементов стэка: [4, 3, 2, 1].\n",
        "\n",
        "---\n",
        "\n"
      ]
    },
    {
      "cell_type": "code",
      "execution_count": 5,
      "metadata": {
        "id": "ByFl_a5OhoCR"
      },
      "outputs": [],
      "source": [
        "class Queue:\n",
        "    def __init__(self):\n",
        "        self.items = []  # список для хранения\n",
        "\n",
        "    def enqueue(self, item):\n",
        "        self.items.append(item)  # добавляем в конец\n",
        "\n",
        "    def dequeue(self):\n",
        "        if not self.is_empty():\n",
        "            return self.items.pop(0)  # удаляем с начала\n",
        "        return None\n",
        "\n",
        "    def is_empty(self):\n",
        "        return len(self.items) == 0"
      ]
    },
    {
      "cell_type": "code",
      "execution_count": 6,
      "metadata": {},
      "outputs": [],
      "source": [
        "class Stack:\n",
        "    def __init__(self):\n",
        "        self.items = []  # список для хранения\n",
        "\n",
        "    def push(self, item):\n",
        "        self.items.append(item)  # добавляем в конец\n",
        "\n",
        "    def pop(self):\n",
        "        if not self.is_empty():\n",
        "            return self.items.pop()  # удаляем с конца\n",
        "        return None\n",
        "\n",
        "    def is_empty(self):\n",
        "        return len(self.items) == 0"
      ]
    },
    {
      "cell_type": "code",
      "execution_count": 12,
      "metadata": {},
      "outputs": [
        {
          "name": "stdout",
          "output_type": "stream",
          "text": [
            "Очередь (FIFO): [1, 2, 3, 4]\n",
            "Стэк (FILO): [4, 3, 2, 1]\n"
          ]
        }
      ],
      "source": [
        "values = [1, 2, 3, 4]\n",
        "\n",
        "# Очередь\n",
        "q = Queue()\n",
        "for v in values:\n",
        "    q.enqueue(v)\n",
        "\n",
        "queue_result = []\n",
        "while not q.is_empty():\n",
        "    queue_result.append(q.dequeue())\n",
        "\n",
        "print(\"Очередь (FIFO):\", queue_result)\n",
        "\n",
        "# Стэк\n",
        "s = Stack()\n",
        "for v in values:\n",
        "    s.push(v)\n",
        "\n",
        "stack_result = []\n",
        "while not s.is_empty():\n",
        "    stack_result.append(s.pop())\n",
        "\n",
        "print(\"Стэк (FILO):\", stack_result)"
      ]
    },
    {
      "cell_type": "markdown",
      "metadata": {
        "id": "UIWphjDSh8d0"
      },
      "source": [
        "\n",
        "## 4️⃣ Задача на хэш-таблицы: Реализация хэш-таблицы\n",
        "\n",
        "Реализуйте собственную хэш-таблицу с операциями\n",
        "\n",
        "* Вставка: Добавление пары \"ключ-значение\".\n",
        "\n",
        "* Поиск: Получение значения по ключу.\n",
        "\n",
        "* Удаление: Удаление пары по ключу.\n",
        "\n",
        "Проработайте случай коллизии, когда два ключа имеют одинаковый хэш\n",
        "\n",
        "**Входные данные:**\n",
        "\n",
        "Пары \"ключ-значение\" для вставки: \"name\": \"Alice\", \"age\": 25.\n",
        "\n",
        "**Ожидаемый результат:**\n",
        "\n",
        "Получение значения по ключу age: 25.\n",
        "\n",
        "---\n",
        "\n",
        "\n"
      ]
    },
    {
      "cell_type": "code",
      "execution_count": 8,
      "metadata": {
        "id": "LseGW0kpiS1s"
      },
      "outputs": [],
      "source": [
        "class HashMap:\n",
        "    def __init__(self):\n",
        "        self.size = 8  # Размер хеш-таблицы, в Cpython это 8\n",
        "        self.map = [None] * self.size\n",
        "\n",
        "    def _get_hash(self, key):\n",
        "        \"\"\"Возращает индекс в хеш-таблице для ключа.\"\"\"\n",
        "        return hash(key) % self.size\n",
        "\n",
        "    def add(self, key, value):\n",
        "        \"\"\"Добавляет пару ключ-значение в хеш-таблицу.\"\"\"\n",
        "\n",
        "        # Получаем хеш ключа\n",
        "        key_hash = self._get_hash(key)\n",
        "\n",
        "        # Если ячейка пуста, то добавляем хэш и ключ-значение\n",
        "        if self.map[key_hash] is None:\n",
        "            self.map[key_hash] = (key_hash, key, value)\n",
        "        else:\n",
        "            # Иначе ищем свободную ячейку для добавления пары ключ-значение\n",
        "            new_hash = self._probe(key_hash)\n",
        "            # Если нашли свободную ячейку, то добавляем пару ключ-значение\n",
        "            if new_hash is not None:\n",
        "                self.map[new_hash] = (key_hash, key, value)\n",
        "            else:\n",
        "                # Иначе увеличиваем размер хеш-таблицы и повторно добавляем пару ключ-значение\n",
        "                self._resize()\n",
        "                self.add(key, value)\n",
        "\n",
        "    def _probe(self, start_index):\n",
        "        \"\"\"Ищем свободную ячейку для добавления пары ключ-значение.\"\"\"\n",
        "        # Проходим по всем ячейкам хеш-таблицы\n",
        "        for i in range(start_index + 1, self.size + start_index):\n",
        "            index = i % self.size\n",
        "            # Если ячейка пуста, то возращаем индекс ячейки\n",
        "            if self.map[index] is None:\n",
        "                return index\n",
        "\n",
        "    def delete(self, key):\n",
        "        \"\"\"Удаляет значение по ключу.\"\"\"\n",
        "        key_hash = self._get_hash(key)\n",
        "        if self.map[key_hash] is not None and self.map[key_hash][0] == key:\n",
        "            self.map[key_hash] = None\n",
        "        else:\n",
        "            for i in range(key_hash + 1, self.size + key_hash):\n",
        "                index = i % self.size\n",
        "                if self.map[index] is not None and self.map[index][0] == key:\n",
        "                    self.map[index] = None\n",
        "                    return True\n",
        "        return False\n",
        "\n",
        "    def _resize(self):\n",
        "        \"\"\"\n",
        "        Увеличивает размер хеш-таблицы в два раза и переносит все элементы в новую.\n",
        "        Важно, что тут может переасчитаться индекс элемента.\n",
        "        \"\"\"\n",
        "        old_map = self.map\n",
        "        self.size *= 2\n",
        "        self.map = [None] * self.size\n",
        "        for item in old_map:\n",
        "            if item is not None:\n",
        "                _, key, value = item\n",
        "                self.add(key, value)\n",
        "\n",
        "    def get(self, key):\n",
        "        \"\"\"Возвращает значение по ключу.\"\"\"\n",
        "        # Получаем хеш ключа\n",
        "        key_hash = self._get_hash(key)\n",
        "        # Если ячейка не пуста и ключ совпадает, то возращаем значение\n",
        "        if self.map[key_hash] is not None and self.map[key_hash][1] == key:\n",
        "            return self.map[key_hash][2]\n",
        "        else:\n",
        "            # Иначе ищем значение по ключу\n",
        "            for i in range(key_hash + 1, self.size + key_hash):\n",
        "                index = i % self.size\n",
        "                if self.map[index] is not None and self.map[index][1] == key:\n",
        "                    return self.map[index][2]\n",
        "        return None\n",
        "    \n",
        "    "
      ]
    },
    {
      "cell_type": "code",
      "execution_count": 9,
      "metadata": {},
      "outputs": [
        {
          "name": "stdout",
          "output_type": "stream",
          "text": [
            "25\n"
          ]
        }
      ],
      "source": [
        "ht = HashMap()\n",
        "ht.add(\"name\", \"Alice\")\n",
        "ht.add(\"age\", 25)\n",
        "\n",
        "print(ht.get(\"age\"))"
      ]
    },
    {
      "cell_type": "markdown",
      "metadata": {
        "id": "h5NaRCeji99S"
      },
      "source": [
        "\n",
        "## 5️⃣ Задача на связные списки: Реализация односвязного списка\n",
        "**Входные данные:**\n",
        "\n",
        "Элементы для добавления: [1, 2, 3, 4].\n",
        "\n",
        "**Ожидаемый результат:**\n",
        "\n",
        "Вывод элементов односвязного списка: 1 -> 2 -> 3 -> 4.\n",
        "---\n"
      ]
    },
    {
      "cell_type": "code",
      "execution_count": 10,
      "metadata": {},
      "outputs": [],
      "source": [
        "class Node:\n",
        "    def __init__(self, data):\n",
        "        self.data = data  # данные\n",
        "        self.next = None  # ссылка на следующий узел, каждый новый узелл ссылается в пустоту\n",
        "\n",
        "class LinkedList:\n",
        "    def __init__(self):\n",
        "        self.head = None  # голова списка, первый элемент, пока что не ссылается никуда (нан)\n",
        "\n",
        "    # Метод для добавления элемента в конец\n",
        "    def append(self, data):\n",
        "        new_node = Node(data)  # создаём новый узел\n",
        "        if self.head is None:  # если список пуст\n",
        "            self.head = new_node # ставим элемент на первое место\n",
        "            return\n",
        "        # иначе находим последний узел\n",
        "        current_node = self.head\n",
        "        while current_node.next: # проверяем наличие ссылки на следующий элемент\n",
        "            current_node = current_node.next # продвигаемся вперед\n",
        "        current_node.next = new_node  # присоединяем новый узел\n",
        "\n",
        "    # Метод для вывода всех элементов\n",
        "    def print_list(self):\n",
        "        current_node = self.head # начинаем с головы, если она есть, то идем по следующим элементам\n",
        "        while current_node:\n",
        "            print(current_node.data, end=' -> ' if current_node.next else '\\n') # выводим текущий элемент \n",
        "            current_node = current_node.next # переставляем ссылку на следующий"
      ]
    },
    {
      "cell_type": "code",
      "execution_count": 11,
      "metadata": {},
      "outputs": [
        {
          "name": "stdout",
          "output_type": "stream",
          "text": [
            "1 -> 2 -> 3 -> 4\n"
          ]
        }
      ],
      "source": [
        "elements = [1, 2, 3, 4]\n",
        "\n",
        "linked_list = LinkedList()\n",
        "\n",
        "for element in elements:\n",
        "    linked_list.append(element)\n",
        "\n",
        "linked_list.print_list()"
      ]
    },
    {
      "cell_type": "code",
      "execution_count": null,
      "metadata": {},
      "outputs": [],
      "source": []
    }
  ],
  "metadata": {
    "colab": {
      "provenance": []
    },
    "kernelspec": {
      "display_name": "Python 3",
      "name": "python3"
    },
    "language_info": {
      "codemirror_mode": {
        "name": "ipython",
        "version": 3
      },
      "file_extension": ".py",
      "mimetype": "text/x-python",
      "name": "python",
      "nbconvert_exporter": "python",
      "pygments_lexer": "ipython3",
      "version": "3.9.6"
    }
  },
  "nbformat": 4,
  "nbformat_minor": 0
}
