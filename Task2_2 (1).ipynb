{
  "cells": [
    {
      "cell_type": "markdown",
      "metadata": {
        "id": "65rym4wyexZA"
      },
      "source": [
        "# Теоретический минимум по теме \"Алгоритмы поиска\"\n",
        "\n",
        "## Зачем используются\n",
        "Алгоритмы поиска используются для нахождения заданного элемента в массиве, списке или другой структуре данных. Выбор алгоритма зависит от структуры данных, объема входных данных и требований к скорости выполнения.\n",
        "\n",
        "\n",
        "---\n",
        "# Материалы\n",
        "https://vk.com/video-62468751_456240449\n",
        "\n",
        "https://vkvideo.ru/video-151213012_456239017\n",
        "\n",
        "https://vk.com/video302513503_456239525\n",
        "\n",
        "Адитья Бхаргава - Грокаем алгоритмы. Иллюстрированное пособие для программистов и любопытствующих (2017, Питер)\n",
        "\n",
        "---\n",
        "\n",
        "# Задачи по теме \"Алгоритмы поиска\""
      ]
    },
    {
      "cell_type": "markdown",
      "metadata": {
        "id": "Z-Xjo7zMNlw3"
      },
      "source": [
        "## 1. Найти первый элемент\n",
        "\n",
        "**Задание:**  \n",
        "У вас есть список чисел. Ваша задача — написать функцию, которая возвращает первый элемент списка.\n",
        "\n",
        "\n",
        "**Формат вывода:**\n",
        "\n",
        "Найденный элемент\n",
        "\n",
        "Какая Big O этого алгоритма?"
      ]
    },
    {
      "cell_type": "code",
      "execution_count": 5,
      "metadata": {
        "id": "SN9ylQTQNmBg"
      },
      "outputs": [
        {
          "name": "stdout",
          "output_type": "stream",
          "text": [
            "1\n"
          ]
        }
      ],
      "source": [
        "def search_alg(n):\n",
        "    n = list(n)\n",
        "    return n[0]\n",
        "\n",
        "n = [1, 2, 3, 4, 5]\n",
        "print(search_alg(n))\n",
        "\n",
        "# Big O алгоритма составляет О(1)"
      ]
    },
    {
      "cell_type": "markdown",
      "metadata": {
        "id": "aaGawtbzhqKl"
      },
      "source": [
        "## 2. Линейный поиск  \n",
        "\n",
        "**Задание:**  \n",
        "Напишите простейший алгоритм, который проходит по массиву и сравнивает каждый элемент с искомым значением.  \n",
        "\n",
        "\n",
        "**Формат вывода:**\n",
        "\n",
        "Индекс найденного элемента\n",
        "\n",
        "Какая Big O этого алгоритма?"
      ]
    },
    {
      "cell_type": "code",
      "execution_count": 6,
      "metadata": {
        "colab": {
          "base_uri": "https://localhost:8080/"
        },
        "id": "ByFl_a5OhoCR",
        "outputId": "6c574be9-d23d-4b90-9636-8d334844c405"
      },
      "outputs": [
        {
          "name": "stdout",
          "output_type": "stream",
          "text": [
            "2\n"
          ]
        }
      ],
      "source": [
        "def linear_search(x, n):\n",
        "    n_new = list(n) # O(n)\n",
        "    n_new.append(x) # O(2)\n",
        "    i = 0\n",
        "    while n_new[i] != x: # O(n)\n",
        "        if i == len(n_new):\n",
        "            return print('числа в списке нет')\n",
        "        i += 1\n",
        "    return i\n",
        "\n",
        "\n",
        "n = [1,2,3,3,4]\n",
        "x = 3\n",
        "print(linear_search(x, n))\n",
        "\n",
        "\n",
        "# Big O = O(n)"
      ]
    },
    {
      "cell_type": "markdown",
      "metadata": {
        "id": "UIWphjDSh8d0"
      },
      "source": [
        "## 3. Бинарный поиск\n",
        "**Задание:**\n",
        "\n",
        "Напишите эффективный алгоритм для упорядоченных массивов. Работает по принципу \"разделяй и властвуй\":\n",
        "\n",
        "Сравнивает искомый элемент с центральным.\n",
        "\n",
        "Если элемент меньше — ищем в левой половине, если больше — в правой.\n",
        "\n",
        "Повторяем процесс, пока не найдем элемент или не останется элементов.\n",
        "\n",
        "\n",
        "**Формат вывода:**\n",
        "\n",
        "\n",
        "Индекс найденного элемента\n",
        "\n",
        "Какая Big O этого алгоритма? Какие требования к массиву данных?"
      ]
    },
    {
      "cell_type": "code",
      "execution_count": 39,
      "metadata": {
        "id": "LseGW0kpiS1s"
      },
      "outputs": [
        {
          "name": "stdout",
          "output_type": "stream",
          "text": [
            "элемент не найден\n"
          ]
        }
      ],
      "source": [
        "def binary_search(x, n):\n",
        "    n_new = list(n)\n",
        "    n_new.sort()\n",
        "    low = 0\n",
        "    high = len(n_new)-1\n",
        "\n",
        "    while low <= high:\n",
        "\n",
        "        middle = int((low + high) / 2)\n",
        "        if x == n_new[middle]:\n",
        "            return middle\n",
        "        elif x < n_new[middle]:\n",
        "            high = middle-1\n",
        "        elif x > n_new[middle]:\n",
        "            low = middle+1\n",
        "    return 'элемент не найден'\n",
        "\n",
        "\n",
        "n = [1, 2, 3, 4, 5, 6, 7, 8, 9, 10]\n",
        "x = 11\n",
        "\n",
        "print(binary_search(x, n))"
      ]
    },
    {
      "cell_type": "markdown",
      "metadata": {
        "id": "h5NaRCeji99S"
      },
      "source": [
        "## 4. Интерполяционный поиск\n",
        "**Задание:**\n",
        "\n",
        "Напишите улучшенная версия бинарного поиска. Вы заранее знаете, что данные равномерно распределены. Вместо деления массива пополам вычисляйте приблизительное положение искомого элемента.\n",
        "\n",
        "**Формат вывода:**\n",
        "\n",
        "Индекс найденного элемента\n",
        "\n",
        "Какая Big O этого алгоритма? Какие требования к массиву данных?"
      ]
    },
    {
      "cell_type": "code",
      "execution_count": null,
      "metadata": {
        "id": "5efo_fzpjMCs"
      },
      "outputs": [],
      "source": [
        "[2,2,3,4,5,6,7]"
      ]
    },
    {
      "cell_type": "markdown",
      "metadata": {
        "id": "dacySgMpjM5_"
      },
      "source": [
        "## 5. Поиск в строках. Алгоритм Кнута-Морриса-Пратта (KMP)\n",
        "**Задание:**\n",
        "Алгоритм Кнута-Морриса-Пратта (KMP) используется для поиска подстроки (шаблона) в строке. Он предварительно строит префикс-функцию (π-функцию), которая позволяет избегать повторных сравнений.\n",
        "\n",
        "**Шаги реализации:**\n",
        "\n",
        "Реализовать функцию compute_prefix_function(pattern), которая строит массив префикс-функции.\n",
        "Реализовать функцию kmp_search(text, pattern), которая использует префикс-функцию для поиска подстроки.\n",
        "Формат ввода:\n",
        "\n",
        "text — строка, в которой выполняется поиск.\n",
        "pattern — подстрока, которую необходимо найти.\n",
        "\n",
        "**Формат вывода:**\n",
        "\n",
        "Индексы всех вхождений pattern в text.\n"
      ]
    },
    {
      "cell_type": "code",
      "execution_count": null,
      "metadata": {
        "id": "bwDKd05JjNC1"
      },
      "outputs": [],
      "source": []
    }
  ],
  "metadata": {
    "colab": {
      "provenance": []
    },
    "kernelspec": {
      "display_name": "Python 3",
      "name": "python3"
    },
    "language_info": {
      "codemirror_mode": {
        "name": "ipython",
        "version": 3
      },
      "file_extension": ".py",
      "mimetype": "text/x-python",
      "name": "python",
      "nbconvert_exporter": "python",
      "pygments_lexer": "ipython3",
      "version": "3.10.0"
    }
  },
  "nbformat": 4,
  "nbformat_minor": 0
}
