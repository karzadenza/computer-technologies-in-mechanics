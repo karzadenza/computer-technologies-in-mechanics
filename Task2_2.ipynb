{
  "cells": [
    {
      "cell_type": "markdown",
      "metadata": {
        "id": "65rym4wyexZA"
      },
      "source": [
        "# Теоретический минимум по теме \"Алгоритмы поиска\"\n",
        "\n",
        "## Зачем используются\n",
        "Алгоритмы поиска используются для нахождения заданного элемента в массиве, списке или другой структуре данных. Выбор алгоритма зависит от структуры данных, объема входных данных и требований к скорости выполнения.\n",
        "\n",
        "\n",
        "---\n",
        "# Материалы\n",
        "https://vk.com/video-62468751_456240449\n",
        "\n",
        "https://vkvideo.ru/video-151213012_456239017\n",
        "\n",
        "https://vk.com/video302513503_456239525\n",
        "\n",
        "Адитья Бхаргава - Грокаем алгоритмы. Иллюстрированное пособие для программистов и любопытствующих (2017, Питер)\n",
        "\n",
        "---\n",
        "\n",
        "# Задачи по теме \"Алгоритмы поиска\""
      ]
    },
    {
      "cell_type": "markdown",
      "metadata": {
        "id": "Z-Xjo7zMNlw3"
      },
      "source": [
        "## 1. Найти первый элемент\n",
        "\n",
        "**Задание:**  \n",
        "У вас есть список чисел. Ваша задача — написать функцию, которая возвращает первый элемент списка.\n",
        "\n",
        "\n",
        "**Формат вывода:**\n",
        "\n",
        "Найденный элемент\n",
        "\n",
        "Какая Big O этого алгоритма?"
      ]
    },
    {
      "cell_type": "code",
      "execution_count": 5,
      "metadata": {
        "id": "SN9ylQTQNmBg"
      },
      "outputs": [
        {
          "name": "stdout",
          "output_type": "stream",
          "text": [
            "1\n"
          ]
        }
      ],
      "source": [
        "def search_alg(n):\n",
        "    n = list(n)\n",
        "    return n[0]\n",
        "\n",
        "n = [1, 2, 3, 4, 5]\n",
        "print(search_alg(n))\n",
        "\n",
        "# Big O алгоритма составляет О(1)"
      ]
    },
    {
      "cell_type": "markdown",
      "metadata": {
        "id": "aaGawtbzhqKl"
      },
      "source": [
        "## 2. Линейный поиск  \n",
        "\n",
        "**Задание:**  \n",
        "Напишите простейший алгоритм, который проходит по массиву и сравнивает каждый элемент с искомым значением.  \n",
        "\n",
        "\n",
        "**Формат вывода:**\n",
        "\n",
        "Индекс найденного элемента\n",
        "\n",
        "Какая Big O этого алгоритма?"
      ]
    },
    {
      "cell_type": "code",
      "execution_count": 6,
      "metadata": {
        "colab": {
          "base_uri": "https://localhost:8080/"
        },
        "id": "ByFl_a5OhoCR",
        "outputId": "6c574be9-d23d-4b90-9636-8d334844c405"
      },
      "outputs": [
        {
          "name": "stdout",
          "output_type": "stream",
          "text": [
            "2\n"
          ]
        }
      ],
      "source": [
        "def linear_search(x, n):\n",
        "    n_new = list(n) # O(n)\n",
        "    n_new.append(x) # O(2)\n",
        "    i = 0\n",
        "    while n_new[i] != x: # O(n)\n",
        "        if i == len(n_new):\n",
        "            return print('числа в списке нет')\n",
        "        i += 1\n",
        "    return i\n",
        "\n",
        "\n",
        "n = [1,2,3,3,4]\n",
        "x = 3\n",
        "print(linear_search(x, n))\n",
        "\n",
        "\n",
        "# Big O = O(n)"
      ]
    },
    {
      "cell_type": "markdown",
      "metadata": {
        "id": "UIWphjDSh8d0"
      },
      "source": [
        "## 3. Бинарный поиск\n",
        "**Задание:**\n",
        "\n",
        "Напишите эффективный алгоритм для упорядоченных массивов. Работает по принципу \"разделяй и властвуй\":\n",
        "\n",
        "Сравнивает искомый элемент с центральным.\n",
        "\n",
        "Если элемент меньше — ищем в левой половине, если больше — в правой.\n",
        "\n",
        "Повторяем процесс, пока не найдем элемент или не останется элементов.\n",
        "\n",
        "\n",
        "**Формат вывода:**\n",
        "\n",
        "\n",
        "Индекс найденного элемента\n",
        "\n",
        "Какая Big O этого алгоритма? Какие требования к массиву данных?"
      ]
    },
    {
      "cell_type": "code",
      "execution_count": 48,
      "metadata": {
        "id": "LseGW0kpiS1s"
      },
      "outputs": [
        {
          "name": "stdout",
          "output_type": "stream",
          "text": [
            "элемент не найден\n"
          ]
        }
      ],
      "source": [
        "def binary_search(x, n):\n",
        "    n_new = list(n)\n",
        "    n_new.sort()\n",
        "    left = 0\n",
        "    right = len(n_new)-1\n",
        "\n",
        "    while left <= right:\n",
        "\n",
        "        middle = int((left + right) / 2)\n",
        "        if x == n_new[middle]:\n",
        "            return middle\n",
        "        elif x < n_new[middle]:\n",
        "            right = middle-1\n",
        "        elif x > n_new[middle]:\n",
        "            left = middle+1\n",
        "    return 'элемент не найден'\n",
        "\n",
        "\n",
        "n = [1, 2, 3, 4, 5, 6, 7, 8, 9, 10]\n",
        "x = 11\n",
        "\n",
        "print(binary_search(x, n))\n",
        "\n",
        "# Big O = O(log n)\n",
        "# массив должен быть отсортирован"
      ]
    },
    {
      "cell_type": "markdown",
      "metadata": {
        "id": "h5NaRCeji99S"
      },
      "source": [
        "## 4. Интерполяционный поиск\n",
        "**Задание:**\n",
        "\n",
        "Напишите улучшенная версия бинарного поиска. Вы заранее знаете, что данные равномерно распределены. Вместо деления массива пополам вычисляйте приблизительное положение искомого элемента.\n",
        "\n",
        "**Формат вывода:**\n",
        "\n",
        "Индекс найденного элемента\n",
        "\n",
        "Какая Big O этого алгоритма? Какие требования к массиву данных?"
      ]
    },
    {
      "cell_type": "code",
      "execution_count": 49,
      "metadata": {
        "id": "5efo_fzpjMCs"
      },
      "outputs": [
        {
          "name": "stdout",
          "output_type": "stream",
          "text": [
            "5\n"
          ]
        }
      ],
      "source": [
        "def interp_search(x, n):\n",
        "    left = 0\n",
        "    right = len(n) - 1\n",
        "\n",
        "    if not (n[left] <= x <= n[right]):\n",
        "        return 'нет такого числа :('\n",
        "\n",
        "    while left <= right:\n",
        "        index_searched = int(((x - n[left]) * len(n[left:right]) / (n[right] - n[left])))\n",
        "\n",
        "        if n[index_searched] < x:\n",
        "            left = index_searched + 1\n",
        "        elif n[index_searched] > x: \n",
        "            right = index_searched - 1\n",
        "        else: \n",
        "            return index_searched\n",
        "        \n",
        "    return left\n",
        "\n",
        "n = [1, 2, 3, 4, 5, 6, 7, 8, 9, 10]\n",
        "x = 6\n",
        "\n",
        "print(interp_search(x, n))\n",
        "\n",
        "# Big O = O(log log n)\n",
        "# массив должен быть отсортирован и равномерно распределен\n",
        "\n"
      ]
    },
    {
      "cell_type": "markdown",
      "metadata": {
        "id": "dacySgMpjM5_"
      },
      "source": [
        "## 5. Поиск в строках. Алгоритм Кнута-Морриса-Пратта (KMP)\n",
        "**Задание:**\n",
        "Алгоритм Кнута-Морриса-Пратта (KMP) используется для поиска подстроки (шаблона) в строке. Он предварительно строит префикс-функцию (π-функцию), которая позволяет избегать повторных сравнений.\n",
        "\n",
        "**Шаги реализации:**\n",
        "\n",
        "Реализовать функцию compute_prefix_function(pattern), которая строит массив префикс-функции.\n",
        "Реализовать функцию kmp_search(text, pattern), которая использует префикс-функцию для поиска подстроки.\n",
        "Формат ввода:\n",
        "\n",
        "text — строка, в которой выполняется поиск.\n",
        "pattern — подстрока, которую необходимо найти.\n",
        "\n",
        "**Формат вывода:**\n",
        "\n",
        "Индексы всех вхождений pattern в text.\n"
      ]
    },
    {
      "cell_type": "code",
      "execution_count": 31,
      "metadata": {
        "id": "bwDKd05JjNC1"
      },
      "outputs": [
        {
          "data": {
            "text/plain": [
              "[0, 0, 0, 1, 1, 2, 3, 4]"
            ]
          },
          "execution_count": 31,
          "metadata": {},
          "output_type": "execute_result"
        }
      ],
      "source": [
        "def compute_prefix_function(pattern):\n",
        "    pi = [0]*len(pattern)\n",
        "    j = 0\n",
        "    i = 1\n",
        "    while i <= (len(pattern) - 1):\n",
        "        if pattern[j] == pattern[i]:\n",
        "            pi[i] = j + 1\n",
        "            i += 1\n",
        "            j += 1\n",
        "        else:\n",
        "            if j == 0:\n",
        "                pi[i] = 0\n",
        "                i += 1\n",
        "            else: \n",
        "                j = pi[j-1]\n",
        "    return pi\n",
        "\n",
        "strOCHKA = 'лииллиил'\n",
        "compute_prefix_function(strOCHKA)"
      ]
    },
    {
      "cell_type": "code",
      "execution_count": null,
      "metadata": {},
      "outputs": [
        {
          "data": {
            "text/plain": [
              "[9, 21]"
            ]
          },
          "execution_count": 46,
          "metadata": {},
          "output_type": "execute_result"
        }
      ],
      "source": [
        "def kmp_search(text, pattern):\n",
        "    pi = compute_prefix_function(pattern)\n",
        "    i = 0\n",
        "    j = 0\n",
        "    result = []\n",
        "\n",
        "    while i <= len(text) - 1:\n",
        "        if text[i] == pattern[j]:\n",
        "            if j == len(pattern) - 1:\n",
        "                result.append(i - len(pattern) + 1)\n",
        "                i += 1\n",
        "            else:\n",
        "                i += 1\n",
        "                j += 1\n",
        "        elif text[i] != pattern[j]:\n",
        "            if j == 0:\n",
        "                i += 1\n",
        "            else:\n",
        "                j = pi[j-1]\n",
        "\n",
        "    if len(result) != 0:\n",
        "        return result\n",
        "    return 'нет слов...'\n",
        "\n",
        "\n",
        "\n",
        "text = 'лилилось лилилась kb лилилапо'\n",
        "pattern = 'лилила'\n",
        "kmp_search(text, pattern)"
      ]
    }
  ],
  "metadata": {
    "colab": {
      "provenance": []
    },
    "kernelspec": {
      "display_name": "Python 3",
      "name": "python3"
    },
    "language_info": {
      "codemirror_mode": {
        "name": "ipython",
        "version": 3
      },
      "file_extension": ".py",
      "mimetype": "text/x-python",
      "name": "python",
      "nbconvert_exporter": "python",
      "pygments_lexer": "ipython3",
      "version": "3.9.6"
    }
  },
  "nbformat": 4,
  "nbformat_minor": 0
}
